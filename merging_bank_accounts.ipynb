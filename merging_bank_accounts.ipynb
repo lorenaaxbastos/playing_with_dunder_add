{
 "cells": [
  {
   "cell_type": "markdown",
   "id": "79a3ef7a-1792-48f3-8d63-88a68dc37864",
   "metadata": {},
   "source": [
    "# Merging Bank Accounts\n",
    "\n",
    "**Tasks**\r\n",
    "1. Create custom class for account.\r\n",
    "2. Implement name formatting to avoid not merging accounts for the same client.\r\n",
    "3. Deactivate the account that was merged with the first one.\r\n",
    "4. Test with different input for client name.\r\n",
    "5. Test adding accounts that have been merged before."
   ]
  },
  {
   "cell_type": "code",
   "execution_count": 1,
   "id": "1af6af4c-877f-4f3a-9676-6dabc3fa9fb2",
   "metadata": {},
   "outputs": [],
   "source": [
    "class Account:\n",
    "    def __init__(self, client_name, account_type, balance):\n",
    "        self.client_name = client_name.title()\n",
    "        self.account_type = [account_type.lower()]\n",
    "        self.balance = {account_type: balance}\n",
    "        self.active = True\n",
    "\n",
    "    def __add__(self, other):\n",
    "        if isinstance(other, Account):\n",
    "            same_client = self.client_name == other.client_name\n",
    "            both_active = self.active and other.active\n",
    "            if not both_active:\n",
    "                return \"Accounts can't be merged because at least one of them is inactive.\"\n",
    "            if same_client:\n",
    "                for account_type in other.account_type:\n",
    "                    if account_type in self.account_type:\n",
    "                        self.balance[account_type] += other.balance[account_type]\n",
    "                    else:\n",
    "                        self.account_type.append(account_type)\n",
    "                        self.balance[account_type] = other.balance[account_type]\n",
    "                other.active = False\n",
    "                return \"Accounts merged successfully.\"\n",
    "            else:\n",
    "                return \"Different clients. Accounts can't be merged.\"\n",
    "\n",
    "    def __repr__(self):\n",
    "        if self.active:\n",
    "            balance_message = \"\\n\".join(f\"{account_type.capitalize() + \" account\"}: U$ {balance}\" for account_type, balance in self.balance.items())\n",
    "            return f\"Client: {self.client_name}\\n\\n{\"*\" * 5} BALANCE {\"*\" * 5}\\n{balance_message}\"\n",
    "        else:\n",
    "            return \"This is account has been merged and is now inactive.\""
   ]
  },
  {
   "cell_type": "code",
   "execution_count": 2,
   "id": "a9ed61b3-fc9c-4eae-86b7-b91b12cfd0d0",
   "metadata": {},
   "outputs": [],
   "source": [
    "acc_1 = Account(\"LOrena\", \"savings\", 3000)\n",
    "acc_2 = Account(\"lorena\", \"checking\", 1000)\n",
    "acc_3 = Account(\"daniela\", \"savings\", 500)\n",
    "acc_4 = Account(\"LORENA\", \"savings\", 500)\n",
    "acc_5 = Account(\"lorena\", \"joint\", 2000)"
   ]
  },
  {
   "cell_type": "code",
   "execution_count": 3,
   "id": "b9c753ed-5901-402f-a27d-92be8231b42b",
   "metadata": {},
   "outputs": [
    {
     "data": {
      "text/plain": [
       "'Accounts merged successfully.'"
      ]
     },
     "execution_count": 3,
     "metadata": {},
     "output_type": "execute_result"
    }
   ],
   "source": [
    "acc_1 + acc_2"
   ]
  },
  {
   "cell_type": "code",
   "execution_count": 4,
   "id": "26b23d95-bbe0-4af3-8c2b-e00c5155ae10",
   "metadata": {},
   "outputs": [
    {
     "data": {
      "text/plain": [
       "\"Accounts can't be merged because at least one of them is inactive.\""
      ]
     },
     "execution_count": 4,
     "metadata": {},
     "output_type": "execute_result"
    }
   ],
   "source": [
    "acc_1 + acc_2"
   ]
  },
  {
   "cell_type": "code",
   "execution_count": 5,
   "id": "c64274d8-5d43-49e7-9eed-406e75957fc8",
   "metadata": {},
   "outputs": [
    {
     "data": {
      "text/plain": [
       "\"Different clients. Accounts can't be merged.\""
      ]
     },
     "execution_count": 5,
     "metadata": {},
     "output_type": "execute_result"
    }
   ],
   "source": [
    "acc_3 + acc_4"
   ]
  },
  {
   "cell_type": "code",
   "execution_count": 6,
   "id": "6852f085-11af-4e35-be6e-0f1362e8e509",
   "metadata": {},
   "outputs": [
    {
     "data": {
      "text/plain": [
       "'Accounts merged successfully.'"
      ]
     },
     "execution_count": 6,
     "metadata": {},
     "output_type": "execute_result"
    }
   ],
   "source": [
    "acc_4 + acc_5"
   ]
  },
  {
   "cell_type": "markdown",
   "id": "a25552ff-f783-4236-bff0-857428a91d33",
   "metadata": {},
   "source": [
    "## Outputs\n",
    "\n",
    "Check results"
   ]
  },
  {
   "cell_type": "code",
   "execution_count": 7,
   "id": "3b08944a-602b-4e99-a866-60c26f5fb066",
   "metadata": {},
   "outputs": [
    {
     "data": {
      "text/plain": [
       "Client: Lorena\n",
       "\n",
       "***** BALANCE *****\n",
       "Savings account: U$ 3000\n",
       "Checking account: U$ 1000"
      ]
     },
     "execution_count": 7,
     "metadata": {},
     "output_type": "execute_result"
    }
   ],
   "source": [
    "acc_1"
   ]
  },
  {
   "cell_type": "code",
   "execution_count": 8,
   "id": "e9212cde-3450-4110-9b18-8bbaac163871",
   "metadata": {},
   "outputs": [
    {
     "data": {
      "text/plain": [
       "This is account has been merged and is now inactive."
      ]
     },
     "execution_count": 8,
     "metadata": {},
     "output_type": "execute_result"
    }
   ],
   "source": [
    "acc_2"
   ]
  },
  {
   "cell_type": "code",
   "execution_count": 9,
   "id": "70296c76-0173-484f-8e22-f0ff3d652bfb",
   "metadata": {},
   "outputs": [
    {
     "data": {
      "text/plain": [
       "Client: Daniela\n",
       "\n",
       "***** BALANCE *****\n",
       "Savings account: U$ 500"
      ]
     },
     "execution_count": 9,
     "metadata": {},
     "output_type": "execute_result"
    }
   ],
   "source": [
    "acc_3"
   ]
  },
  {
   "cell_type": "code",
   "execution_count": 10,
   "id": "d69e50a2-4059-437d-a4cb-5689a728ab6c",
   "metadata": {},
   "outputs": [
    {
     "data": {
      "text/plain": [
       "Client: Lorena\n",
       "\n",
       "***** BALANCE *****\n",
       "Savings account: U$ 500\n",
       "Joint account: U$ 2000"
      ]
     },
     "execution_count": 10,
     "metadata": {},
     "output_type": "execute_result"
    }
   ],
   "source": [
    "acc_4"
   ]
  },
  {
   "cell_type": "code",
   "execution_count": 11,
   "id": "b3ef73e2-1140-47fa-b7b4-de706d897257",
   "metadata": {},
   "outputs": [
    {
     "data": {
      "text/plain": [
       "This is account has been merged and is now inactive."
      ]
     },
     "execution_count": 11,
     "metadata": {},
     "output_type": "execute_result"
    }
   ],
   "source": [
    "acc_5"
   ]
  }
 ],
 "metadata": {
  "kernelspec": {
   "display_name": "Python 3 (ipykernel)",
   "language": "python",
   "name": "python3"
  },
  "language_info": {
   "codemirror_mode": {
    "name": "ipython",
    "version": 3
   },
   "file_extension": ".py",
   "mimetype": "text/x-python",
   "name": "python",
   "nbconvert_exporter": "python",
   "pygments_lexer": "ipython3",
   "version": "3.12.0"
  }
 },
 "nbformat": 4,
 "nbformat_minor": 5
}
